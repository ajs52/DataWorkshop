{
 "cells": [
  {
   "cell_type": "code",
   "execution_count": 16,
   "metadata": {
    "slideshow": {
     "slide_type": "slide"
    }
   },
   "outputs": [
    {
     "name": "stdout",
     "output_type": "stream",
     "text": [
      "['1810', '2013.2811', '2013', '15', '2013.1989', '2013', '11']\n",
      "['10', '2013.2811', '2013', '15', '0', '0', '1']\n",
      "['10', '2013.2811', '2013', '15', '0', '0', '1']\n",
      "['10', '2013.2811', '2013', '15', '0', '0', '1']\n",
      "['39.460696', '2013.2811', '2013', '15', '0', '0', '1']\n",
      "['1810', '2013.2756', '2013', '15', '2013.1935', '2013', '11']\n",
      "['10', '2013.2756', '2013', '15', '0', '0', '1']\n",
      "['10', '2013.2756', '2013', '15', '0', '0', '1']\n",
      "['10', '2013.2756', '2013', '15', '0', '0', '1']\n",
      "['533.57466', '2013.2756', '2013', '15', '2012.6546', '2012', '35']\n"
     ]
    }
   ],
   "source": [
    "import csv\n",
    "\n",
    "########################################################################\n",
    "#### Read in File ######################################################\n",
    "# input file name\n",
    "inputFile = \"back-mapping-file.csv\"\n",
    "\n",
    "f = open(inputFile, 'rt')\n",
    "try:\n",
    "    reader = csv.reader(f, delimiter=',')\n",
    "    header = reader.next() # skip header\n",
    "    body = [row for row in reader]\n",
    "\n",
    "finally:\n",
    "    f.close()\n",
    "########################################################################\n",
    "    \n",
    "#preview the data    \n",
    "limiter = 10    \n",
    "for row in body:\n",
    "    print row\n",
    "    limiter = limiter - 1\n",
    "    if (limiter==0): break"
   ]
  },
  {
   "cell_type": "code",
   "execution_count": 17,
   "metadata": {
    "slideshow": {
     "slide_type": "slide"
    }
   },
   "outputs": [
    {
     "name": "stdout",
     "output_type": "stream",
     "text": [
      "['1810', '10', '10', '10', '39.460696', '1810', '10', '10', '10', '533.57466']\n",
      "<type 'str'>\n",
      "[1800, 0, 0, 0, 0, 1800, 0, 0, 0, 500, 300, 200, 100, 100, 400, 200, 600, 300, 200, 0, 0, 300, 0, 100, 300, 300, 200, 0, 100, 1800]\n"
     ]
    }
   ],
   "source": [
    "########################################################################\n",
    "#### Caputer the Date ##################################################\n",
    "\n",
    "dataIn = []\n",
    "for row in body:\n",
    "    dataIn.append(row[0])\n",
    "    \n",
    "print dataIn[0:10]\n",
    "print type(dataIn[0])\n",
    "########################################################################\n",
    "\n",
    "########################################################################\n",
    "#### Manipulate the Data ###############################################\n",
    "\n",
    "dataOut = []\n",
    "for d in dataIn[0:500]:\n",
    "    dataOut.append(int(round(float(d), -2)))\n",
    "    \n",
    "print dataOut[0:30]\n",
    "\n",
    "########################################################################"
   ]
  },
  {
   "cell_type": "code",
   "execution_count": 18,
   "metadata": {
    "slideshow": {
     "slide_type": "slide"
    }
   },
   "outputs": [
    {
     "data": {
      "application/javascript": [
       "window.data=[1800, 0, 0, 0, 0, 1800, 0, 0, 0, 500, 300, 200, 100, 100, 400, 200, 600, 300, 200, 0, 0, 300, 0, 100, 300, 300, 200, 0, 100, 1800, 1800, 300, 100, 400, 600, 200, 100, 1100, 200, 300, 200, 400, 1300, 0, 100, 0, 0, 1800, 100, 400, 0, 100, 0, 0, 500, 100, 100, 100, 0, 100, 200, 200, 100, 900, 100, 100, 100, 100, 100, 600, 0, 0, 100, 0, 0, 100, 1300, 300, 100, 200, 400, 0, 400, 1800, 200, 200, 200, 1800, 300, 600, 200, 300, 100, 0, 100, 1800, 500, 400, 100, 0, 0, 0, 500, 1800, 200, 500, 600, 600, 200, 400, 1800, 800, 100, 400, 200, 1800, 0, 1800, 500, 200, 200, 1100, 300, 1100, 200, 1800, 300, 200, 100, 500, 100, 200, 300, 200, 100, 1000, 100, 400, 0, 200, 100, 0, 100, 100, 0, 1100, 100, 0, 0, 1800, 100, 0, 0, 600, 0, 0, 300, 700, 1800, 200, 900, 1800, 200, 1800, 500, 0, 1800, 100, 300, 0, 300, 0, 0, 0, 0, 800, 1800, 1800, 100, 800, 500, 1800, 300, 100, 0, 1800, 1800, 0, 0, 1800, 0, 1800, 100, 1800, 1800, 600, 100, 0, 200, 200, 300, 100, 200, 300, 100, 200, 500, 200, 300, 100, 100, 300, 300, 100, 100, 200, 400, 100, 400, 1600, 200, 100, 300, 0, 500, 200, 100, 400, 1800, 100, 100, 600, 200, 100, 100, 300, 200, 200, 100, 0, 100, 100, 200, 100, 100, 300, 800, 0, 200, 300, 300, 200, 0, 300, 100, 400, 200, 100, 100, 900, 100, 100, 300, 300, 100, 200, 200, 200, 100, 300, 100, 200, 0, 100, 200, 200, 300, 200, 400, 300, 700, 1300, 200, 100, 100, 300, 0, 300, 100, 100, 100, 0, 300, 0, 0, 0, 0, 0, 200, 0, 0, 0, 0, 200, 100, 200, 200, 200, 900, 500, 800, 0, 500, 900, 0, 100, 1800, 0, 0, 0, 100, 400, 0, 1800, 0, 1800, 0, 800, 400, 200, 1800, 500, 100, 200, 400, 100, 400, 300, 100, 400, 200, 100, 0, 0, 0, 0, 100, 500, 0, 0, 300, 0, 0, 100, 0, 0, 0, 300, 0, 300, 200, 300, 400, 100, 200, 600, 200, 200, 100, 600, 100, 400, 300, 100, 300, 1100, 300, 100, 1000, 100, 100, 200, 100, 100, 200, 0, 200, 100, 1800, 100, 0, 300, 1800, 1800, 200, 100, 0, 0, 600, 400, 0, 1800, 0, 0, 600, 0, 600, 300, 0, 300, 0, 0, 300, 500, 0, 0, 300, 300, 0, 100, 200, 0, 300, 100, 200, 200, 0, 1800, 200, 0, 300, 100, 700, 200, 1800, 0, 300, 200, 100, 300, 100, 300, 0, 300, 0, 0, 100, 1800, 0, 0, 100, 100, 0, 500, 100, 0, 200, 300, 100, 100, 0, 400, 0, 100, 0, 100, 200, 200, 1800, 1800, 1200, 0, 1000, 1800, 0, 1000, 0, 0, 1000, 100, 1300, 100, 200, 300, 200, 300, 600, 0, 100, 300, 200, 400, 0, 700, 1800, 300, 300, 0, 200, 100];"
      ],
      "text/plain": [
       "<IPython.core.display.Javascript object>"
      ]
     },
     "execution_count": 18,
     "metadata": {},
     "output_type": "execute_result"
    }
   ],
   "source": [
    "from IPython.display import HTML\n",
    "from IPython.display import Javascript\n",
    "Javascript(\"\"\"window.data={};\"\"\".format(dataOut))"
   ]
  },
  {
   "cell_type": "code",
   "execution_count": 29,
   "metadata": {
    "slideshow": {
     "slide_type": "slide"
    }
   },
   "outputs": [
    {
     "data": {
      "application/javascript": [
       "element.append('<div id=\"graph\" style=\"min-width: 310px; height: 400px; margin: 0 auto\"></div>');\n",
       "require.config({paths: {d3: \"//d3js.org/d3.v4.min\",}});\n",
       "\n",
       "require([\"d3\"], function(d3) {\n",
       "\n",
       "    // Use this to keep the screen clean\n",
       "    d3.select(\"div#graph\").selectAll(\"*\").remove();\n",
       "    \n",
       "    var width = 800, height = 400;\n",
       "    var x = d3.scaleLinear().rangeRound([50, width-50]).domain(d3.extent(data));\n",
       "    var y = d3.scaleLinear().range([height, 50]).domain(d3.extent(data));\n",
       "    // Same as example 5, just condensed \n",
       "    var vis = d3.select(\"div#graph\").append(\"svg\")\n",
       "        .attr(\"width\", width+\"px\")\n",
       "        .attr(\"height\", height+\"px\");\n",
       "    \n",
       "    // Update the data with circleData! \t\n",
       "    var newCircles = vis.selectAll(\"circle\").data(data);\n",
       "\n",
       "    // Nothing happens at this point because the data is not entered yet\n",
       "    // So let's enter the data and use it to position (cx,cy) and size (r) the circles\n",
       "    newCircles.enter().append(\"circle\")\n",
       "        .attr(\"cx\", function(d) { return x(d); })\n",
       "        .attr(\"cy\", function(d) { return height/2; })\n",
       "        .attr(\"r\", function(d) { return 3; })\n",
       "})"
      ],
      "text/plain": [
       "<IPython.core.display.Javascript object>"
      ]
     },
     "metadata": {},
     "output_type": "display_data"
    }
   ],
   "source": [
    "%%javascript\n",
    "element.append('<div id=\"graph\" style=\"min-width: 310px; height: 400px; margin: 0 auto\"></div>');\n",
    "require.config({paths: {d3: \"//d3js.org/d3.v4.min\",}});\n",
    "\n",
    "require([\"d3\"], function(d3) {\n",
    "\n",
    "    // Use this to keep the screen clean\n",
    "    d3.select(\"div#graph\").selectAll(\"*\").remove();\n",
    "    \n",
    "    var width = 800, height = 400;\n",
    "    var x = d3.scaleLinear().rangeRound([50, width-50]).domain(d3.extent(data));\n",
    "    var y = d3.scaleLinear().range([height, 50]).domain(d3.extent(data));\n",
    "    // Same as example 5, just condensed \n",
    "    var vis = d3.select(\"div#graph\").append(\"svg\")\n",
    "        .attr(\"width\", width+\"px\")\n",
    "        .attr(\"height\", height+\"px\");\n",
    "    \n",
    "    // Update the data with circleData! \t\n",
    "    var newCircles = vis.selectAll(\"circle\").data(data);\n",
    "\n",
    "    // Nothing happens at this point because the data is not entered yet\n",
    "    // So let's enter the data and use it to position (cx,cy) and size (r) the circles\n",
    "    newCircles.enter().append(\"circle\")\n",
    "        .attr(\"cx\", function(d) { return x(d); })\n",
    "        .attr(\"cy\", function(d) { return height/2; })\n",
    "        .attr(\"r\", function(d) { return 3; })\n",
    "})"
   ]
  },
  {
   "cell_type": "code",
   "execution_count": 38,
   "metadata": {
    "slideshow": {
     "slide_type": "slide"
    }
   },
   "outputs": [
    {
     "data": {
      "application/javascript": [
       "\n",
       "element.append('<div id=\"graph2\" style=\"min-width: 310px; height: 300px; margin: 0 auto\"></div>');\n",
       "require.config({\n",
       "    paths: {\n",
       "        d3: \"//d3js.org/d3.v4.min\", \n",
       "        d3chromatic: \"//d3js.org/d3-scale-chromatic.v1.min\",\n",
       "        d3color: \"//d3js.org/d3-color.v1.min\",\n",
       "        d3Interpolate: \"//d3js.org/d3-scale-chromatic.v1.min\"\n",
       "    }\n",
       "})\n",
       "require.config({\n",
       "    shim : {\n",
       "        d3 : {\n",
       "            exports : 'd3'\n",
       "        },        \n",
       "        d3chromatic : {\n",
       "            deps : ['d3color', 'd3Interpolate','d3'],\n",
       "            exports : 'd3chromatic'\n",
       "        }, \n",
       "\n",
       "    }          \n",
       "});\n",
       "\n",
       "require([\"d3\"], function(d3) {\n",
       "    // Use this to keep the screen clean\n",
       "    d3.select(\"div#graph2\").selectAll(\"*\").remove();\n",
       "\n",
       "    var width = 800, height = 300;\n",
       "    var margin = {top: 20, right: 20, bottom: 60, left: 20}\n",
       "    var x = d3.scaleLinear().rangeRound([50, width-50]).domain(d3.extent(data));\n",
       "    var y = d3.scaleLinear().range([height, 50]).domain(d3.extent(data));\n",
       "    var palette = d3.interpolatePlasma; // https://github.com/d3/d3-scale-chromatic\n",
       "\n",
       "    var color = d3.scaleLinear().range([0,1]);\n",
       "\n",
       "    var vis = d3.select(\"div#graph2\").append(\"svg\")\n",
       "        .attr(\"width\", (width + margin.left + margin.right)+\"px\")\n",
       "        .attr(\"height\", (height + margin.top + margin.bottom)+\"px\")\n",
       "    \n",
       "    vis.append(\"g\").attr(\"transform\", \"translate(0,\" + (height-margin.bottom) + \")\")\n",
       "        .call(d3.axisBottom(x));\n",
       "    \n",
       "    // Update the data with circleData! \t\n",
       "    var newCircles = vis.selectAll(\"circle\").data(data);\n",
       "    color.domain(d3.extent(data))\n",
       "    // Nothing happens at this point because the data is not entered yet\n",
       "    // So let's enter the data and use it to position (cx,cy) and size (r) the circles\n",
       "    newCircles.enter().append(\"circle\")\n",
       "        .attr(\"cx\", function(d) { return x(d); })\n",
       "        .attr(\"cy\", function(d) { return height/2; })\n",
       "        .attr(\"r\", function(d) { return 3; })\n",
       "        .style(\"fill\", function(d) { return palette(color(d)); })\n",
       "})"
      ],
      "text/plain": [
       "<IPython.core.display.Javascript object>"
      ]
     },
     "metadata": {},
     "output_type": "display_data"
    }
   ],
   "source": [
    "%%javascript\n",
    "\n",
    "element.append('<div id=\"graph2\" style=\"min-width: 310px; height: 300px; margin: 0 auto\"></div>');\n",
    "require.config({\n",
    "    paths: {\n",
    "        d3: \"//d3js.org/d3.v4.min\", \n",
    "        d3chromatic: \"//d3js.org/d3-scale-chromatic.v1.min\",\n",
    "        d3color: \"//d3js.org/d3-color.v1.min\",\n",
    "        d3Interpolate: \"//d3js.org/d3-scale-chromatic.v1.min\"\n",
    "    }\n",
    "})\n",
    "require.config({\n",
    "    shim : {\n",
    "        d3 : {\n",
    "            exports : 'd3'\n",
    "        },        \n",
    "        d3chromatic : {\n",
    "            deps : ['d3color', 'd3Interpolate','d3'],\n",
    "            exports : 'd3chromatic'\n",
    "        }, \n",
    "\n",
    "    }          \n",
    "});\n",
    "\n",
    "require([\"d3\"], function(d3) {\n",
    "    // Use this to keep the screen clean\n",
    "    d3.select(\"div#graph2\").selectAll(\"*\").remove();\n",
    "\n",
    "    var width = 800, height = 300;\n",
    "    var margin = {top: 20, right: 20, bottom: 60, left: 20}\n",
    "    var x = d3.scaleLinear().rangeRound([50, width-50]).domain(d3.extent(data));\n",
    "    var y = d3.scaleLinear().range([height, 50]).domain(d3.extent(data));\n",
    "    var palette = d3.interpolatePlasma; // https://github.com/d3/d3-scale-chromatic\n",
    "\n",
    "    var color = d3.scaleLinear().range([0,1]);\n",
    "\n",
    "    var vis = d3.select(\"div#graph2\").append(\"svg\")\n",
    "        .attr(\"width\", (width + margin.left + margin.right)+\"px\")\n",
    "        .attr(\"height\", (height + margin.top + margin.bottom)+\"px\")\n",
    "    \n",
    "    vis.append(\"g\").attr(\"transform\", \"translate(0,\" + (height-margin.bottom) + \")\")\n",
    "        .call(d3.axisBottom(x));\n",
    "    \n",
    "    // Update the data with circleData! \t\n",
    "    var newCircles = vis.selectAll(\"circle\").data(data);\n",
    "    color.domain(d3.extent(data))\n",
    "    // Nothing happens at this point because the data is not entered yet\n",
    "    // So let's enter the data and use it to position (cx,cy) and size (r) the circles\n",
    "    newCircles.enter().append(\"circle\")\n",
    "        .attr(\"cx\", function(d) { return x(d); })\n",
    "        .attr(\"cy\", function(d) { return height/2; })\n",
    "        .attr(\"r\", function(d) { return 3; })\n",
    "        .style(\"fill\", function(d) { return palette(color(d)); })\n",
    "})"
   ]
  },
  {
   "cell_type": "code",
   "execution_count": 43,
   "metadata": {
    "scrolled": true,
    "slideshow": {
     "slide_type": "slide"
    }
   },
   "outputs": [
    {
     "data": {
      "application/javascript": [
       "///////////////////////////////////////////////////////////////////////////\n",
       "//////////// Beeswarm Plot ////////////////////////////////////////////////\n",
       "///////////////////////////////////////////////////////////////////////////\n",
       "\n",
       "element.append('<div id=\"graph3\" style=\"min-width: 310px; height: 300px; margin: 0 auto\"></div>');\n",
       "require.config({\n",
       "    paths: {\n",
       "        d3: \"//d3js.org/d3.v4.min\", \n",
       "        d3chromatic: \"//d3js.org/d3-scale-chromatic.v1.min\",\n",
       "        d3color: \"//d3js.org/d3-color.v1.min\",\n",
       "        d3Interpolate: \"//d3js.org/d3-scale-chromatic.v1.min\"\n",
       "    }\n",
       "})\n",
       "require.config({\n",
       "    shim : {\n",
       "        d3 : {\n",
       "            exports : 'd3'\n",
       "        },        \n",
       "        d3chromatic : {\n",
       "            deps : ['d3color', 'd3Interpolate','d3'],\n",
       "            exports : 'd3chromatic'\n",
       "        }, \n",
       "\n",
       "    }          \n",
       "});\n",
       "\n",
       "require([\"d3\"], function(d3) {\n",
       "    // Use this to keep the screen clean\n",
       "    d3.select(\"div#graph3\").selectAll(\"*\").remove();\n",
       "\n",
       "    var nodes = [];\n",
       "    data.forEach(function(d,i) {\n",
       "        nodes.push({\n",
       "            value:d,\n",
       "            index:i,\n",
       "        })\n",
       "    })    \n",
       "    \n",
       "    var width = 800, height = 300;\n",
       "    var margin = {top: 20, right: 20, bottom: 60, left: 20}\n",
       "    var x = d3.scaleLinear().rangeRound([50, width-50]).domain(d3.extent(data));\n",
       "    var y = d3.scaleLinear().range([height, 50]).domain(d3.extent(data));\n",
       "    var palette = d3.interpolatePlasma; // https://github.com/d3/d3-scale-chromatic\n",
       "\n",
       "    var simulation = d3.forceSimulation()\n",
       "        .force(\"x\", d3.forceX(function(d) { return x(+d.value); }).strength(1))\n",
       "        .force(\"y\", d3.forceY(height / 2))\n",
       "        .force(\"collide\", d3.forceCollide(4));\n",
       "    \n",
       "    simulation\n",
       "        .nodes(nodes)\n",
       "        .on(\"tick\", ticked);\n",
       "    var color = d3.scaleLinear().range([0,1]);\n",
       "    \n",
       "    var vis = d3.select(\"div#graph3\").append(\"svg\")\n",
       "        .attr(\"width\", (width + margin.left + margin.right)+\"px\")\n",
       "        .attr(\"height\", (height + margin.top + margin.bottom)+\"px\")\n",
       "    \n",
       "    vis.append(\"g\").attr(\"transform\", \"translate(0,\" + (height-margin.bottom) + \")\")\n",
       "        .call(d3.axisBottom(x));    \n",
       "    \n",
       "    // Update the data with circleData! \t\n",
       "    var newCircles = vis.selectAll(\"circle\").data(nodes);\n",
       "    color.domain(d3.extent(data))\n",
       "    // Nothing happens at this point because the data is not entered yet\n",
       "    // So let's enter the data and use it to position (cx,cy) and size (r) the circles\n",
       "    newCircles.enter().append(\"circle\")\n",
       "        .attr(\"cx\", function(d) { return x(d.value); })\n",
       "        .attr(\"cy\", function(d) { return height/2; })\n",
       "        .attr(\"r\", function(d) { return 3; })\n",
       "        .style(\"fill\", function(d) { return palette(color(d.value)); })\n",
       "    \n",
       "\n",
       "    function ticked() {\n",
       "        d3.select(\"div#graph3\").select(\"svg\").selectAll(\"circle\")\n",
       "            .attr(\"cx\", function(d) { return d.x; })\n",
       "            .attr(\"cy\", function(d) { return d.y; })\n",
       "    }  \n",
       "    \n",
       "})"
      ],
      "text/plain": [
       "<IPython.core.display.Javascript object>"
      ]
     },
     "metadata": {},
     "output_type": "display_data"
    }
   ],
   "source": [
    "%%javascript\n",
    "///////////////////////////////////////////////////////////////////////////\n",
    "//////////// Beeswarm Plot ////////////////////////////////////////////////\n",
    "///////////////////////////////////////////////////////////////////////////\n",
    "\n",
    "element.append('<div id=\"graph3\" style=\"min-width: 310px; height: 300px; margin: 0 auto\"></div>');\n",
    "require.config({\n",
    "    paths: {\n",
    "        d3: \"//d3js.org/d3.v4.min\", \n",
    "        d3chromatic: \"//d3js.org/d3-scale-chromatic.v1.min\",\n",
    "        d3color: \"//d3js.org/d3-color.v1.min\",\n",
    "        d3Interpolate: \"//d3js.org/d3-scale-chromatic.v1.min\"\n",
    "    }\n",
    "})\n",
    "require.config({\n",
    "    shim : {\n",
    "        d3 : {\n",
    "            exports : 'd3'\n",
    "        },        \n",
    "        d3chromatic : {\n",
    "            deps : ['d3color', 'd3Interpolate','d3'],\n",
    "            exports : 'd3chromatic'\n",
    "        }, \n",
    "\n",
    "    }          \n",
    "});\n",
    "\n",
    "require([\"d3\"], function(d3) {\n",
    "    // Use this to keep the screen clean\n",
    "    d3.select(\"div#graph3\").selectAll(\"*\").remove();\n",
    "\n",
    "    var nodes = [];\n",
    "    data.forEach(function(d,i) {\n",
    "        nodes.push({\n",
    "            value:d,\n",
    "            index:i,\n",
    "        })\n",
    "    })    \n",
    "    \n",
    "    var width = 800, height = 300;\n",
    "    var margin = {top: 20, right: 20, bottom: 60, left: 20}\n",
    "    var x = d3.scaleLinear().rangeRound([50, width-50]).domain(d3.extent(data));\n",
    "    var y = d3.scaleLinear().range([height, 50]).domain(d3.extent(data));\n",
    "    var palette = d3.interpolatePlasma; // https://github.com/d3/d3-scale-chromatic\n",
    "\n",
    "    var simulation = d3.forceSimulation()\n",
    "        .force(\"x\", d3.forceX(function(d) { return x(+d.value); }).strength(1))\n",
    "        .force(\"y\", d3.forceY(height / 2))\n",
    "        .force(\"collide\", d3.forceCollide(4));\n",
    "    \n",
    "    simulation\n",
    "        .nodes(nodes)\n",
    "        .on(\"tick\", ticked);\n",
    "    var color = d3.scaleLinear().range([0,1]);\n",
    "    \n",
    "    var vis = d3.select(\"div#graph3\").append(\"svg\")\n",
    "        .attr(\"width\", (width + margin.left + margin.right)+\"px\")\n",
    "        .attr(\"height\", (height + margin.top + margin.bottom)+\"px\")\n",
    "    \n",
    "    vis.append(\"g\").attr(\"transform\", \"translate(0,\" + (height-margin.bottom) + \")\")\n",
    "        .call(d3.axisBottom(x));    \n",
    "    \n",
    "    // Update the data with circleData! \t\n",
    "    var newCircles = vis.selectAll(\"circle\").data(nodes);\n",
    "    color.domain(d3.extent(data))\n",
    "    // Nothing happens at this point because the data is not entered yet\n",
    "    // So let's enter the data and use it to position (cx,cy) and size (r) the circles\n",
    "    newCircles.enter().append(\"circle\")\n",
    "        .attr(\"cx\", function(d) { return x(d.value); })\n",
    "        .attr(\"cy\", function(d) { return height/2; })\n",
    "        .attr(\"r\", function(d) { return 3; })\n",
    "        .style(\"fill\", function(d) { return palette(color(d.value)); })\n",
    "    \n",
    "\n",
    "    function ticked() {\n",
    "        d3.select(\"div#graph3\").select(\"svg\").selectAll(\"circle\")\n",
    "            .attr(\"cx\", function(d) { return d.x; })\n",
    "            .attr(\"cy\", function(d) { return d.y; })\n",
    "    }  \n",
    "    \n",
    "})"
   ]
  }
 ],
 "metadata": {
  "kernelspec": {
   "display_name": "Python 2",
   "language": "python",
   "name": "python2"
  },
  "language_info": {
   "codemirror_mode": {
    "name": "ipython",
    "version": 2
   },
   "file_extension": ".py",
   "mimetype": "text/x-python",
   "name": "python",
   "nbconvert_exporter": "python",
   "pygments_lexer": "ipython2",
   "version": "2.7.14"
  }
 },
 "nbformat": 4,
 "nbformat_minor": 2
}
